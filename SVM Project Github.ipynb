{
 "cells": [
  {
   "cell_type": "code",
   "execution_count": null,
   "metadata": {},
   "outputs": [],
   "source": [
    "import numpy as np\n",
    "import pandas as pd\n",
    "import pandas_datareader as dr\n",
    "from matplotlib import pyplot as plt\n",
    "%matplotlib inline\n",
    "import datetime as dt\n",
    "from sklearn.linear_model import LinearRegression\n",
    "from sklearn.svm import SVR\n",
    "from sklearn.model_selection import train_test_split\n",
    "\n",
    "data = dr.data.get_data_yahoo(\"KO\", start = '2016-01-01', end = '2020-01-01')\n",
    "\n",
    "data = data[['Adj Close']]\n",
    "\n",
    "\n",
    "print(data)\n",
    "\n",
    "forecast_out = 30\n",
    "data['Prediction'] = data[['Adj Close']].shift(-forecast_out)\n",
    "print(data.tail())\n",
    "\n",
    "X = np.array(data.drop(['Prediction'],1)) # creating new data set X after dropping 'Prediction column'.\n",
    "\n",
    "X = X[:-forecast_out] # removed last 30 rows of data\n",
    "\n",
    "y = np.array(data['Prediction']) # create dependent data set y which will hold future prediction\n",
    "\n",
    "y = y[:-forecast_out]\n",
    "print(y)\n",
    "\n",
    "#y.shape, X.shape # We are predicting prices not returns\n",
    "x_train, x_test, y_train, y_test = train_test_split(X, y, test_size=0.2)\n",
    "\n",
    "\n",
    "x_train.shape, y_train.shape\n",
    "\n",
    "svr_rbf = SVR(kernel='rbf', C=1000, gamma=0.1) \n",
    "svr_rbf.fit(x_train, y_train)\n",
    "\n",
    "\n",
    "svm_confidence = svr_rbf.score(x_test, y_test)\n",
    "print('svm_confidence:', svm_confidence)\n",
    "svr_rbf.predict(x_test) # predicted prices\n",
    "\n",
    "plt.plot(svr_rbf.predict(x_test), color = 'blue') \n",
    "plt.plot(y_test, color = 'red') # y_test(actual data), the plot shows some overlap\n",
    "\n",
    "plt.grid()\n",
    "plt.plot(svr_rbf.predict(x_test), y_test, 'o') # very high correlation. \n",
    "\n"
   ]
  },
  {
   "cell_type": "code",
   "execution_count": null,
   "metadata": {},
   "outputs": [],
   "source": []
  }
 ],
 "metadata": {
  "kernelspec": {
   "display_name": "Python 3",
   "language": "python",
   "name": "python3"
  },
  "language_info": {
   "codemirror_mode": {
    "name": "ipython",
    "version": 3
   },
   "file_extension": ".py",
   "mimetype": "text/x-python",
   "name": "python",
   "nbconvert_exporter": "python",
   "pygments_lexer": "ipython3",
   "version": "3.7.6"
  }
 },
 "nbformat": 4,
 "nbformat_minor": 4
}
